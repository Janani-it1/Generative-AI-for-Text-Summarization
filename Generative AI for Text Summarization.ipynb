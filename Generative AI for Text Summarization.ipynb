{
 "cells": [
  {
   "cell_type": "code",
   "execution_count": null,
   "metadata": {},
   "outputs": [],
   "source": [
    "from flask import Flask, request, jsonify\n",
    "from transformers import pipeline\n",
    "\n",
    "# Initialize the Flask application\n",
    "app = Flask(__name__)\n",
    "\n",
    "# Load the Hugging Face summarization pipeline\n",
    "summarizer = pipeline(\"summarization\", model=\"facebook/bart-large-cnn\")\n",
    "\n",
    "# Define a route for summarization\n",
    "@app.route('/summarize', methods=['POST'])\n",
    "def summarize_text():\n",
    "    try:\n",
    "        # Get the text from the incoming request\n",
    "        data = request.get_json()\n",
    "        text = data['text']\n",
    "\n",
    "        # Generate the summary using the model\n",
    "        summary = summarizer(text, max_length=150, min_length=50, do_sample=False)\n",
    "\n",
    "        # Return the summarized text as a response\n",
    "        return jsonify({\n",
    "            'summary': summary[0]['summary_text']\n",
    "        })\n",
    "    except Exception as e:\n",
    "        return jsonify({'error': str(e)}), 400\n",
    "\n",
    "# Define a health check route\n",
    "@app.route('/health', methods=['GET'])\n",
    "def health_check():\n",
    "    return jsonify({\"status\": \"Healthy\"}), 200\n",
    "\n",
    "# Start the Flask application\n",
    "if __name__ == '__main__':\n",
    "    app.run(debug=True)\n"
   ]
  },
  {
   "cell_type": "code",
   "execution_count": null,
   "metadata": {},
   "outputs": [],
   "source": [
    "import spacy\n",
    "\n",
    "# Load spaCy's model for keyword extraction\n",
    "nlp = spacy.load(\"en_core_web_sm\")\n",
    "\n",
    "def extract_keywords(text):\n",
    "    doc = nlp(text)\n",
    "    keywords = [token.text for token in doc if token.is_stop != True and token.is_punct != True]\n",
    "    return keywords\n"
   ]
  },
  {
   "cell_type": "code",
   "execution_count": null,
   "metadata": {},
   "outputs": [],
   "source": [
    "@app.route('/keywords', methods=['POST'])\n",
    "def extract_keywords_route():\n",
    "    try:\n",
    "        data = request.get_json()\n",
    "        text = data['text']\n",
    "        keywords = extract_keywords(text)\n",
    "        return jsonify({'keywords': keywords})\n",
    "    except Exception as e:\n",
    "        return jsonify({'error': str(e)}), 400\n"
   ]
  }
 ],
 "metadata": {
  "language_info": {
   "name": "python"
  }
 },
 "nbformat": 4,
 "nbformat_minor": 2
}
